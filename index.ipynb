{
 "cells": [
  {
   "cell_type": "markdown",
   "metadata": {},
   "source": [
    "# Assignment\n",
    "- download historical data (candles) for your chosen instrument or instruments, hourly time period or even more frequent,\n",
    "- calculated the moving average value,\n",
    "- make a decision on an order (enter the market, exit the market, do nothing), either in accordance with a mean-reverting strategy as discussed - during the class or another strategy, if you feel like doing so, you can use market orders and/or limit/stop orders,\n",
    "- consider how stop loss / trailing stop loss fits into your strategy and implement it at will,\n",
    "- make sure your strategy is set up in such a way that it will do some trading during a week, so we can look at the results together."
   ]
  },
  {
   "cell_type": "code",
   "execution_count": 374,
   "metadata": {},
   "outputs": [],
   "source": [
    "import dotenv\n",
    "import requests\n",
    "import json\n",
    "import plotly.graph_objects as go\n",
    "import pandas as pd\n",
    "import numpy as np\n",
    "import matplotlib.pyplot as plt\n",
    "import time"
   ]
  },
  {
   "cell_type": "markdown",
   "metadata": {},
   "source": [
    "# Constants\n",
    "\n",
    "### Dotenv\n",
    "In order to use project `.env` file must be defined in root "
   ]
  },
  {
   "cell_type": "code",
   "execution_count": 375,
   "metadata": {},
   "outputs": [],
   "source": [
    "API_KEY = dotenv.dotenv_values()['API_KEY']\n",
    "HEADERS = {\n",
    "    \"Authorization\": \"Bearer {}\".format(API_KEY),\n",
    "    \"Content-Type\": \"application/json; charset=utf-8\"\n",
    "}\n",
    "INSTRUMENT = \"BTC_USD\"\n",
    "BASE_URL = dotenv.dotenv_values()['BASE_URL']\n",
    "GRANULARITY= \"H1\"\n",
    "GRANULARITY_SECONDS = 60\n",
    "PERIOD= \"240\""
   ]
  },
  {
   "cell_type": "markdown",
   "metadata": {},
   "source": [
    "# AccountManager Class\n",
    "\n",
    "This class contains methods that allow to retrieve information about account.\n",
    "It allows to:\n",
    "- Get orders\n",
    "- Get positions\n",
    "- Get account details\n",
    "- Create buy and sell orders"
   ]
  },
  {
   "cell_type": "code",
   "execution_count": 376,
   "metadata": {},
   "outputs": [],
   "source": [
    "class AccountManager(object):\n",
    "\n",
    "    __accountId = None\n",
    "\n",
    "    def __init__(self):\n",
    "        self.getAccountId()\n",
    "\n",
    "    def getAccountId(self):\n",
    "        if self.__accountId != None:\n",
    "            return self.__accountId\n",
    "        account = requests.get('{}accounts'.format(BASE_URL), headers=HEADERS).json()\n",
    "        # TODO: Check if account exists else thor init error\n",
    "        self.__accountId = account['accounts'][0]['id']\n",
    "        return self.__accountId\n",
    "\n",
    "    def getAccountDetails(self):\n",
    "        return requests.get('{}accounts/{}'.format(BASE_URL, self.getAccountId()), headers=HEADERS).json()\n",
    "        \n",
    "    def getOrders(self):\n",
    "        return requests.get('{}accounts/{}/orders'.format(BASE_URL, self.getAccountId()), headers=HEADERS).json()\n",
    "\n",
    "    def getPositions(self):\n",
    "        return requests.get('{}accounts/{}/positions'.format(BASE_URL, self.getAccountId()), headers=HEADERS).json()\n",
    "\n",
    "    def createOrder(self, type, instrument, price, units = 0.01):\n",
    "        if type == \"SELL\" or type == \"BUY\":\n",
    "            if type == \"SELL\":\n",
    "                units = -units\n",
    "            \n",
    "            # TODO: Change limits to something more tangible. 1.03 and 0.98 are magic numbes\n",
    "            takeProfit = round(price*1.03, 1)\n",
    "            stopLoss = round(price*0.98, 1)\n",
    "\n",
    "            # TODO: Decide which body should be used.\n",
    "\n",
    "            # Create Stop Loss Take Profit Limit order\n",
    "            # body = {\n",
    "            #     \"order\": {\n",
    "            #         \"price\": str(price),\n",
    "            #         \"stopLossOnFill\": {\n",
    "            #             \"timeInForce\": \"GTC\",\n",
    "            #             \"price\": str(stopLoss)\n",
    "            #         },\n",
    "            #         \"takeProfitOnFill\": {\n",
    "            #             \"price\": str(takeProfit),\n",
    "            #             \"timeInForce\": \"GTC\",\n",
    "            #         },\n",
    "            #         \"instrument\": instrument,\n",
    "            #         \"units\": units,\n",
    "            #         \"type\": \"LIMIT\",\n",
    "            #         \"positionFill\": \"DEFAULT\"\n",
    "            #     }\n",
    "            # }\n",
    "            # Create Fulfill or kill order\n",
    "            body = {\n",
    "                \"order\": {\n",
    "                    \"units\": str(units),\n",
    "                    \"instrument\": instrument,\n",
    "                    \"timeInForce\": \"FOK\",\n",
    "                    \"type\": \"MARKET\",\n",
    "                    \"positionFill\": \"DEFAULT\"\n",
    "                }\n",
    "            }\n",
    "            body = json.dumps(body)\n",
    "            return requests.post(\"{}accounts/{}/orders\".format(BASE_URL, self.getAccountId()), headers=HEADERS, data=body)\n",
    "\n",
    "    def closePosition(self, instrument):\n",
    "        body = {\n",
    "                \"longUnits\": \"ALL\"\n",
    "            }\n",
    "        body = json.dumps(body)\n",
    "        return requests.put(\"{}accounts/{}/positions/{}/close\".format(BASE_URL, self.getAccountId(), instrument), headers=HEADERS, data=body)\n",
    "\n"
   ]
  },
  {
   "cell_type": "code",
   "execution_count": 377,
   "metadata": {},
   "outputs": [],
   "source": [
    "acc_mananger = AccountManager()"
   ]
  },
  {
   "cell_type": "code",
   "execution_count": 364,
   "metadata": {},
   "outputs": [],
   "source": [
    "# Buy Order\n",
    "# acc_mananger.createOrder(\"BUY\",\"BTC_USD\", 46103.0, 0.02).json()\n",
    "\n",
    "# Sell Order\n",
    "# acc_mananger.createOrder(\"SELL\",\"BTC_USD\", 46103.0, 0.02).json()"
   ]
  },
  {
   "cell_type": "markdown",
   "metadata": {},
   "source": [
    "# InstrumentHandler Class\n",
    "\n",
    "- Inherits AccountManager class\n",
    "- This class is strictly connected to Instrument only.\n",
    "- It main purpose is to create dataframe that can be used for further usage.\n",
    "- Additionaly can visualize Instruments candle plot. "
   ]
  },
  {
   "cell_type": "code",
   "execution_count": 378,
   "metadata": {},
   "outputs": [],
   "source": [
    "class InstrumentHandler(AccountManager): \n",
    "    __instrument = INSTRUMENT\n",
    "\n",
    "    def __init__(self, instrument):\n",
    "        self.__instrument = instrument\n",
    "        self.data = pd.DataFrame()\n",
    "        self.initializeInstrument()\n",
    "        print(\"{} Initialized\".format(instrument))\n",
    "    \n",
    "    def __getInstrument(self, period):\n",
    "        url = '{}instruments/{}/candles?granularity={}&count={}'.format(BASE_URL, self.__instrument, GRANULARITY, period)\n",
    "        return requests.get(url, headers=HEADERS).json()\n",
    "\n",
    "    def __getInstrumentDataframe(self, period = PERIOD):\n",
    "        df = pd.DataFrame()\n",
    "        for i, row in enumerate(list(self.__getInstrument(period)['candles'])):\n",
    "            df.loc[i, 'time'] = pd.to_datetime(row['time'])\n",
    "            df.loc[i, 'o'] = pd.to_numeric(row['mid']['o'])\n",
    "            df.loc[i, 'h'] = pd.to_numeric(row['mid']['h'])\n",
    "            df.loc[i, 'l'] = pd.to_numeric(row['mid']['l'])\n",
    "            df.loc[i, 'c'] = pd.to_numeric(row['mid']['c'])\n",
    "        df = df.set_index(\"time\")\n",
    "        return df\n",
    "\n",
    "    def getInstrument(self):\n",
    "        return self.__instrument\n",
    "\n",
    "    def plotCandles(self):\n",
    "        fig = go.Figure(\n",
    "        data=[go.Ohlc(\n",
    "                x=self.data.index,\n",
    "                open=self.data['o'],\n",
    "                high=self.data['h'],\n",
    "                low=self.data['l'],\n",
    "                close=self.data['c']\n",
    "            ),\n",
    "        ])\n",
    "        fig.show()\n",
    "    \n",
    "    def updateInstrument(self):\n",
    "        self.data = pd.concat([self.data, self.__getInstrumentDataframe(1)])\n",
    "\n",
    "    def initializeInstrument(self):\n",
    "        self.data = self.__getInstrumentDataframe()"
   ]
  },
  {
   "cell_type": "markdown",
   "metadata": {},
   "source": [
    "# SimpleMovingAverage Class\n",
    "\n",
    "- Extends InstrumentHandler class\n",
    "- Improves candle plot with moving average line\n",
    "- In this class we apply simple moving average algorithm onto collected data and apply logic to create orders according to signals"
   ]
  },
  {
   "cell_type": "code",
   "execution_count": 379,
   "metadata": {},
   "outputs": [],
   "source": [
    "# Extend Base with Starategy class\n",
    "class SimpleMovingAverage(InstrumentHandler):\n",
    "    __MOVING_AVERAGE_PERIOD = 6\n",
    "    __percentile_distribution = []\n",
    "\n",
    "    def __init__(self, instrument, **kwargs):\n",
    "        super(SimpleMovingAverage, self).__init__(instrument, **kwargs)\n",
    "        self.__getStrategyIndicators()\n",
    "\n",
    "    # Private Methods\n",
    "    def __getMovingAverage(self):\n",
    "        self.data['returns'] = self.data['c'].diff()\n",
    "        self.data['ma'] = self.data['c'].rolling(self.__MOVING_AVERAGE_PERIOD).mean()\n",
    "        self.data['ratio'] = self.data['c'] / self.data['ma']\n",
    "\n",
    "    def __getPercentiles(self):\n",
    "        # TODO: Get percentiles as argument\n",
    "        percentiles = [5,10,50,90,95]\n",
    "        self.__percentile_distribution = np.percentile(self.data['ratio'].dropna(), percentiles)\n",
    "\n",
    "    def __getSignals(self):\n",
    "        short = self.__percentile_distribution[-1] # 95th percentile - SELL\n",
    "        long = self.__percentile_distribution[0] # 5th percentile - BUY\n",
    "\n",
    "        self.data['position'] = np.where(self.data.ratio > short, -1, np.nan)\n",
    "        self.data['position'] = np.where(self.data.ratio < long, 1, self.data['position'])\n",
    "        self.data['position'] = self.data['position'].fillna(0)\n",
    "\n",
    "    def __getStrategyIndicators(self):\n",
    "        self.__getMovingAverage()\n",
    "        self.__getPercentiles()\n",
    "        self.__getSignals()\n",
    "    # Public methods\n",
    "\n",
    "    def getPercDist(self):\n",
    "        return self.__percentile_distribution\n",
    "\n",
    "    def visualizePercentiles(self):\n",
    "        self.data['ratio'].dropna().plot(legend=True)\n",
    "        plt.axhline(self.__percentile_distribution[0], c = (.5,.5,.5), ls=\"--\")\n",
    "        plt.axhline(self.__percentile_distribution[2], c = (.5,.5,.5), ls=\"--\")\n",
    "        plt.axhline(self.__percentile_distribution[-1], c = (.5,.5,.5), ls=\"--\")\n",
    "\n",
    "    def visualizeSignals(self):\n",
    "        self.data['position'].dropna().plot()\n",
    "        \n",
    "    def plotCandles(self):\n",
    "        fig = go.Figure(\n",
    "        data=[go.Ohlc(\n",
    "                x=self.data.index,\n",
    "                open=self.data['o'],\n",
    "                high=self.data['h'],\n",
    "                low=self.data['l'],\n",
    "                close=self.data['c']\n",
    "            ),\n",
    "            go.Scatter(x=self.data.index, y=self.data['ma'], line=dict(color='blue', width=1)),\n",
    "        ])\n",
    "        fig.show()\n",
    "    \n",
    "    def getCurrentInsturmentPositions(self):\n",
    "        #  For now only single position available BUY or SELL\n",
    "        for position in self.getPositions()['positions']:\n",
    "            if position['instrument'] == self.getInstrument():\n",
    "                return position\n",
    "        return None\n",
    "\n",
    "    def applyStategy(self):\n",
    "        self.updateInstrument()\n",
    "        self.__getStrategyIndicators()\n",
    "\n",
    "        curr_status = self.data.iloc[-1]\n",
    "        pos = self.getCurrentInsturmentPositions()\n",
    "\n",
    "        # BUY SIGNAL \n",
    "        print(\"Position: {} | Ratio: {} | Close: {}\".format(curr_status['position'], curr_status['ratio'], curr_status['c']))\n",
    "        print(\"Percentage Dist: {}\".format(self.getPercDist()))\n",
    "        self.visualizePercentiles()\n",
    "        if curr_status['position'] == 1:        \n",
    "            if pos == None:\n",
    "                print(\"I bought 0.01 {}!\".format(self.getInstrument()))\n",
    "                self.createOrder(\"BUY\", self.getInstrument(), price=pos['c'], units=0.01)\n",
    "            else:\n",
    "                return None\n",
    "                # Close order\n",
    "\n",
    "        # SELL SIGNAL\n",
    "        if curr_status['position'] == -1:     \n",
    "            if pos == None:\n",
    "                # TODO: Conisder shorting\n",
    "                # self.createOrder(\"SELL\", self.getInstrument(), price=pos['c'], units=0.01)\n",
    "                return None\n",
    "            else:\n",
    "                print(\"I sold 0.01 {}!\".format(self.getInstrument()))\n",
    "                self.closePosition(self.getInstrument())       \n",
    "        return None"
   ]
  },
  {
   "cell_type": "code",
   "execution_count": 380,
   "metadata": {},
   "outputs": [],
   "source": [
    "def getCurrTime():\n",
    "    return time.strftime(\"%Y-%m-%d %H:%M:%S\")\n",
    "\n",
    "# TODO: Create Generic strategy class with shared methods\n",
    "def startTrading(asset: SimpleMovingAverage):\n",
    "    while True:\n",
    "        print(getCurrTime())\n",
    "        asset.applyStategy()\n",
    "        time.sleep(GRANULARITY_SECONDS)"
   ]
  },
  {
   "cell_type": "code",
   "execution_count": 385,
   "metadata": {},
   "outputs": [
    {
     "name": "stdout",
     "output_type": "stream",
     "text": [
      "EUR_USD Initialized\n",
      "2021-12-20 21:31:22\n",
      "Position: 0.0 | Ratio: 0.9994193597000173 | Close: 1.12741\n",
      "Percentage Dist: [0.99839253 0.99880945 0.99993142 1.00129054 1.00182288]\n"
     ]
    },
    {
     "ename": "KeyboardInterrupt",
     "evalue": "",
     "output_type": "error",
     "traceback": [
      "\u001b[0;31m---------------------------------------------------------------------------\u001b[0m",
      "\u001b[0;31mKeyboardInterrupt\u001b[0m                         Traceback (most recent call last)",
      "\u001b[0;32m<ipython-input-385-6ea5b095363f>\u001b[0m in \u001b[0;36m<module>\u001b[0;34m\u001b[0m\n\u001b[1;32m      1\u001b[0m \u001b[0mbtc_usd_sma\u001b[0m \u001b[0;34m=\u001b[0m \u001b[0mSimpleMovingAverage\u001b[0m\u001b[0;34m(\u001b[0m\u001b[0;34m\"EUR_USD\"\u001b[0m\u001b[0;34m)\u001b[0m\u001b[0;34m\u001b[0m\u001b[0;34m\u001b[0m\u001b[0m\n\u001b[1;32m      2\u001b[0m \u001b[0;31m# Set trading algotithm on threads and add event to stop bot\u001b[0m\u001b[0;34m\u001b[0m\u001b[0;34m\u001b[0m\u001b[0;34m\u001b[0m\u001b[0m\n\u001b[0;32m----> 3\u001b[0;31m \u001b[0mstartTrading\u001b[0m\u001b[0;34m(\u001b[0m\u001b[0mbtc_usd_sma\u001b[0m\u001b[0;34m)\u001b[0m\u001b[0;34m\u001b[0m\u001b[0;34m\u001b[0m\u001b[0m\n\u001b[0m",
      "\u001b[0;32m<ipython-input-380-9bf525c31ea6>\u001b[0m in \u001b[0;36mstartTrading\u001b[0;34m(asset)\u001b[0m\n\u001b[1;32m      7\u001b[0m         \u001b[0mprint\u001b[0m\u001b[0;34m(\u001b[0m\u001b[0mgetCurrTime\u001b[0m\u001b[0;34m(\u001b[0m\u001b[0;34m)\u001b[0m\u001b[0;34m)\u001b[0m\u001b[0;34m\u001b[0m\u001b[0;34m\u001b[0m\u001b[0m\n\u001b[1;32m      8\u001b[0m         \u001b[0masset\u001b[0m\u001b[0;34m.\u001b[0m\u001b[0mapplyStategy\u001b[0m\u001b[0;34m(\u001b[0m\u001b[0;34m)\u001b[0m\u001b[0;34m\u001b[0m\u001b[0;34m\u001b[0m\u001b[0m\n\u001b[0;32m----> 9\u001b[0;31m         \u001b[0mtime\u001b[0m\u001b[0;34m.\u001b[0m\u001b[0msleep\u001b[0m\u001b[0;34m(\u001b[0m\u001b[0mGRANULARITY_SECONDS\u001b[0m\u001b[0;34m)\u001b[0m\u001b[0;34m\u001b[0m\u001b[0;34m\u001b[0m\u001b[0m\n\u001b[0m",
      "\u001b[0;31mKeyboardInterrupt\u001b[0m: "
     ]
    },
    {
     "data": {
      "image/png": "[encoded data removed]",
      "text/plain": [
       "<Figure size 432x288 with 1 Axes>"
      ]
     },
     "metadata": {
      "needs_background": "light"
     },
     "output_type": "display_data"
    }
   ],
   "source": [
    "btc_usd_sma = SimpleMovingAverage(\"EUR_USD\")\n",
    "# Set trading algotithm on threads and add event to stop bot\n",
    "startTrading(btc_usd_sma)"
   ]
  },
  {
   "cell_type": "code",
   "execution_count": 382,
   "metadata": {},
   "outputs": [
    {
     "data": {
      "image/png": "[encoded data removed]",
      "text/plain": [
       "<Figure size 432x288 with 1 Axes>"
      ]
     },
     "metadata": {
      "needs_background": "light"
     },
     "output_type": "display_data"
    }
   ],
   "source": [
    "btc_usd_sma.visualizePercentiles()\n"
   ]
  },
  {
   "cell_type": "code",
   "execution_count": 383,
   "metadata": {},
   "outputs": [
    {
     "data": {
      "image/png": "[encoded data removed]",
      "text/plain": [
       "<Figure size 432x288 with 1 Axes>"
      ]
     },
     "metadata": {
      "needs_background": "light"
     },
     "output_type": "display_data"
    }
   ],
   "source": [
    "btc_usd_sma.visualizeSignals()\n"
   ]
  },
  {
   "cell_type": "code",
   "execution_count": 384,
   "metadata": {},
   "outputs": [
    {
     "data": {
      "application/vnd.plotly.v1+json": {
       "config": {
        "plotlyServerURL": "https://plot.ly"
       },
       "data": [
        {
         "close": [
          1.12857,
          1.12832,
          1.12836,
          1.12798,
          1.1282,
          1.12918,
          1.12906,
          1.12882,
          1.12872,
          1.1294,
          1.12888,
          1.12751,
          1.12748,
          1.12606,
          1.12577,
          1.12526,
          1.12402,
          1.12456,
          1.12459,
          1.12472,
          1.1244,
          1.12528,
          1.12614,
          1.12676,
          1.12686,
          1.12688,
          1.12726,
          1.12738,
          1.12792,
          1.12912,
          1.12918,
          1.12907,
          1.12936,
          1.12887,
          1.12863,
          1.12834,
          1.12851,
          1.12921,
          1.12764,
          1.12912,
          1.13164,
          1.13038,
          1.13328,
          1.13284,
          1.13486,
          1.13454,
          1.13496,
          1.13486,
          1.13433,
          1.1342,
          1.13442,
          1.13398,
          1.13344,
          1.13338,
          1.13348,
          1.13362,
          1.1327,
          1.1328,
          1.13203,
          1.13224,
          1.13192,
          1.1314,
          1.13169,
          1.13098,
          1.13167,
          1.13022,
          1.1284,
          1.12854,
          1.12899,
          1.12938,
          1.12874,
          1.12945,
          1.12933,
          1.1293,
          1.12938,
          1.12888,
          1.1297,
          1.13017,
          1.12984,
          1.12992,
          1.1295,
          1.12978,
          1.12942,
          1.12858,
          1.12822,
          1.12686,
          1.12679,
          1.12794,
          1.12936,
          1.12862,
          1.13018,
          1.13122,
          1.13188,
          1.13153,
          1.13112,
          1.13174,
          1.13178,
          1.13117,
          1.13109,
          1.13084,
          1.13056,
          1.12952,
          1.1298,
          1.1295,
          1.12973,
          1.12854,
          1.12905,
          1.12744,
          1.12684,
          1.12707,
          1.12744,
          1.12762,
          1.12844,
          1.12871,
          1.12756,
          1.12971,
          1.12932,
          1.1295,
          1.12873,
          1.12844,
          1.12862,
          1.12829,
          1.12834,
          1.12778,
          1.12824,
          1.1283,
          1.12736,
          1.12774,
          1.12778,
          1.12775,
          1.12708,
          1.12824,
          1.13013,
          1.13155,
          1.13187,
          1.13094,
          1.13084,
          1.13006,
          1.12728,
          1.12664,
          1.12719,
          1.1265,
          1.12558,
          1.12542,
          1.12574,
          1.12572,
          1.12578,
          1.12652,
          1.12682,
          1.1262,
          1.12598,
          1.12641,
          1.12692,
          1.12754,
          1.12642,
          1.12726,
          1.12718,
          1.12673,
          1.12698,
          1.12632,
          1.12734,
          1.12587,
          1.1252,
          1.12598,
          1.12602,
          1.12594,
          1.12726,
          1.12878,
          1.12948,
          1.12937,
          1.12904,
          1.12832,
          1.12871,
          1.12891,
          1.12857,
          1.12866,
          1.12856,
          1.12916,
          1.13054,
          1.13178,
          1.13134,
          1.12997,
          1.12961,
          1.13278,
          1.13592,
          1.13272,
          1.13071,
          1.13104,
          1.13181,
          1.13208,
          1.13249,
          1.13332,
          1.13306,
          1.13306,
          1.13338,
          1.13287,
          1.13212,
          1.13248,
          1.1327,
          1.13356,
          1.13484,
          1.13338,
          1.13182,
          1.13357,
          1.13344,
          1.13253,
          1.13184,
          1.13304,
          1.13073,
          1.13066,
          1.1274,
          1.12768,
          1.12682,
          1.12534,
          1.12523,
          1.12368,
          1.1236,
          1.12376,
          1.12431,
          1.125,
          1.12386,
          1.12484,
          1.12484,
          1.12494,
          1.12544,
          1.12522,
          1.12552,
          1.12679,
          1.12621,
          1.12666,
          1.12705,
          1.12688,
          1.12932,
          1.12991,
          1.1289,
          1.12964,
          1.12842,
          1.1281,
          1.12742,
          1.12744,
          1.12744
         ],
         "high": [
          1.12862,
          1.12859,
          1.12872,
          1.12844,
          1.12827,
          1.12928,
          1.12922,
          1.12929,
          1.12911,
          1.12966,
          1.12984,
          1.12948,
          1.12784,
          1.12782,
          1.12668,
          1.12599,
          1.12595,
          1.12483,
          1.12549,
          1.12506,
          1.12518,
          1.12545,
          1.12614,
          1.12678,
          1.12738,
          1.12709,
          1.1274,
          1.12778,
          1.12816,
          1.12914,
          1.12937,
          1.12922,
          1.12958,
          1.12955,
          1.1294,
          1.12937,
          1.12877,
          1.13002,
          1.12944,
          1.13024,
          1.13177,
          1.13167,
          1.13349,
          1.13389,
          1.13495,
          1.13498,
          1.13508,
          1.13548,
          1.13498,
          1.13462,
          1.13454,
          1.13444,
          1.13396,
          1.13365,
          1.13349,
          1.1337,
          1.13361,
          1.13338,
          1.1331,
          1.1327,
          1.13239,
          1.13237,
          1.13228,
          1.13168,
          1.13208,
          1.13196,
          1.13046,
          1.12934,
          1.12945,
          1.1294,
          1.12942,
          1.12958,
          1.12945,
          1.12944,
          1.12983,
          1.12959,
          1.12972,
          1.13017,
          1.13016,
          1.12993,
          1.13029,
          1.13012,
          1.1298,
          1.12972,
          1.12884,
          1.12828,
          1.12744,
          1.12794,
          1.13096,
          1.13018,
          1.13071,
          1.1324,
          1.13216,
          1.1323,
          1.1317,
          1.13183,
          1.13196,
          1.13164,
          1.13194,
          1.13141,
          1.13132,
          1.13058,
          1.12986,
          1.12994,
          1.12998,
          1.12978,
          1.12918,
          1.12928,
          1.12754,
          1.12728,
          1.12798,
          1.12881,
          1.12921,
          1.12978,
          1.12919,
          1.12979,
          1.13072,
          1.12999,
          1.1295,
          1.1291,
          1.12876,
          1.12845,
          1.12842,
          1.1285,
          1.12834,
          1.12838,
          1.12837,
          1.12778,
          1.12814,
          1.12834,
          1.12776,
          1.12839,
          1.13044,
          1.13168,
          1.13238,
          1.13203,
          1.13176,
          1.13087,
          1.13023,
          1.12762,
          1.12768,
          1.1272,
          1.12654,
          1.12594,
          1.12589,
          1.12602,
          1.1259,
          1.12681,
          1.127,
          1.12692,
          1.12628,
          1.1265,
          1.12726,
          1.12768,
          1.12766,
          1.12756,
          1.12772,
          1.1277,
          1.127,
          1.12759,
          1.12742,
          1.12746,
          1.1263,
          1.12678,
          1.12656,
          1.12618,
          1.12754,
          1.12992,
          1.12959,
          1.12962,
          1.12986,
          1.12922,
          1.12893,
          1.12908,
          1.12898,
          1.12896,
          1.1288,
          1.12932,
          1.13123,
          1.13189,
          1.13191,
          1.13148,
          1.13002,
          1.13438,
          1.13594,
          1.13604,
          1.13364,
          1.13129,
          1.13198,
          1.1322,
          1.13262,
          1.13368,
          1.1334,
          1.13366,
          1.13352,
          1.13352,
          1.13321,
          1.13256,
          1.13274,
          1.13359,
          1.1349,
          1.13486,
          1.13361,
          1.13376,
          1.13396,
          1.13342,
          1.13254,
          1.13328,
          1.13328,
          1.13158,
          1.13076,
          1.12795,
          1.1277,
          1.12714,
          1.1259,
          1.1253,
          1.12434,
          1.12424,
          1.12442,
          1.12502,
          1.12502,
          1.12498,
          1.12504,
          1.12514,
          1.12546,
          1.12562,
          1.12615,
          1.12707,
          1.12742,
          1.12718,
          1.12768,
          1.12765,
          1.12982,
          1.1301,
          1.1304,
          1.13037,
          1.1299,
          1.1287,
          1.12861,
          1.12776,
          1.12776
         ],
         "low": [
          1.12812,
          1.12827,
          1.12823,
          1.12792,
          1.12758,
          1.12808,
          1.12894,
          1.12864,
          1.12872,
          1.12872,
          1.1287,
          1.1274,
          1.12536,
          1.12572,
          1.12548,
          1.12512,
          1.12274,
          1.12353,
          1.12404,
          1.12366,
          1.12416,
          1.12418,
          1.12508,
          1.12592,
          1.12652,
          1.12667,
          1.12688,
          1.12728,
          1.1273,
          1.12793,
          1.12886,
          1.12902,
          1.12888,
          1.12874,
          1.12839,
          1.12787,
          1.1282,
          1.12726,
          1.12684,
          1.12666,
          1.1288,
          1.13004,
          1.13031,
          1.13252,
          1.13284,
          1.13441,
          1.13454,
          1.13472,
          1.13421,
          1.13401,
          1.134,
          1.13366,
          1.13329,
          1.13326,
          1.13294,
          1.13324,
          1.13268,
          1.13267,
          1.13173,
          1.13166,
          1.13154,
          1.13107,
          1.13128,
          1.1307,
          1.13086,
          1.13,
          1.12786,
          1.12784,
          1.12842,
          1.12824,
          1.12871,
          1.12872,
          1.12893,
          1.12901,
          1.12927,
          1.12884,
          1.1287,
          1.1295,
          1.12974,
          1.12956,
          1.12948,
          1.1295,
          1.12864,
          1.12846,
          1.12806,
          1.12651,
          1.12668,
          1.12676,
          1.1267,
          1.127,
          1.12838,
          1.13006,
          1.13108,
          1.13142,
          1.13098,
          1.13106,
          1.13153,
          1.13088,
          1.13098,
          1.1308,
          1.13028,
          1.12952,
          1.12935,
          1.12924,
          1.12944,
          1.12851,
          1.12838,
          1.12742,
          1.12602,
          1.12626,
          1.12632,
          1.12726,
          1.12758,
          1.12797,
          1.12733,
          1.12744,
          1.12932,
          1.12914,
          1.12873,
          1.12824,
          1.12818,
          1.12821,
          1.12813,
          1.12738,
          1.12752,
          1.12787,
          1.12716,
          1.12726,
          1.12761,
          1.12753,
          1.12708,
          1.12662,
          1.12785,
          1.13007,
          1.13126,
          1.13088,
          1.13046,
          1.12955,
          1.12711,
          1.12648,
          1.12663,
          1.1264,
          1.12558,
          1.12537,
          1.12542,
          1.1257,
          1.12538,
          1.12572,
          1.12642,
          1.12612,
          1.12576,
          1.12598,
          1.12634,
          1.12688,
          1.12629,
          1.12638,
          1.12698,
          1.12634,
          1.12626,
          1.12604,
          1.12558,
          1.12501,
          1.1248,
          1.12501,
          1.1258,
          1.12539,
          1.12218,
          1.12634,
          1.12875,
          1.12905,
          1.12896,
          1.12812,
          1.1282,
          1.1284,
          1.12856,
          1.12838,
          1.1285,
          1.12836,
          1.12904,
          1.13018,
          1.13118,
          1.12962,
          1.12904,
          1.12917,
          1.13246,
          1.13233,
          1.12986,
          1.13014,
          1.13025,
          1.13152,
          1.13186,
          1.1319,
          1.13286,
          1.13253,
          1.13282,
          1.13273,
          1.13206,
          1.13204,
          1.13233,
          1.13268,
          1.13352,
          1.13334,
          1.13172,
          1.13178,
          1.13268,
          1.13222,
          1.13116,
          1.13126,
          1.13051,
          1.12926,
          1.12737,
          1.1267,
          1.12668,
          1.1253,
          1.12512,
          1.12368,
          1.1235,
          1.12374,
          1.12347,
          1.12411,
          1.12376,
          1.12364,
          1.12468,
          1.12446,
          1.12478,
          1.12481,
          1.12474,
          1.12502,
          1.12497,
          1.1257,
          1.12646,
          1.12682,
          1.12685,
          1.12908,
          1.1287,
          1.12883,
          1.12782,
          1.12803,
          1.12742,
          1.1272,
          1.1272
         ],
         "open": [
          1.12831,
          1.12859,
          1.12834,
          1.12838,
          1.128,
          1.12822,
          1.12916,
          1.12908,
          1.1288,
          1.12874,
          1.12942,
          1.12886,
          1.1275,
          1.12746,
          1.12605,
          1.12578,
          1.12527,
          1.12404,
          1.12455,
          1.12458,
          1.12472,
          1.12439,
          1.12529,
          1.12615,
          1.12678,
          1.12674,
          1.1269,
          1.12728,
          1.12742,
          1.12793,
          1.1291,
          1.12917,
          1.12905,
          1.12935,
          1.1289,
          1.12864,
          1.12834,
          1.1285,
          1.12922,
          1.12765,
          1.1291,
          1.13165,
          1.13039,
          1.13326,
          1.13284,
          1.13484,
          1.13456,
          1.13495,
          1.13486,
          1.13445,
          1.13423,
          1.1344,
          1.13396,
          1.13345,
          1.13339,
          1.13346,
          1.13361,
          1.13268,
          1.13282,
          1.13202,
          1.13226,
          1.1319,
          1.13141,
          1.13168,
          1.13097,
          1.13166,
          1.13023,
          1.12839,
          1.12852,
          1.129,
          1.12938,
          1.12872,
          1.12944,
          1.12914,
          1.12932,
          1.12936,
          1.1289,
          1.12968,
          1.13016,
          1.12982,
          1.1299,
          1.12951,
          1.1298,
          1.12941,
          1.1286,
          1.12821,
          1.12684,
          1.12678,
          1.12792,
          1.12936,
          1.12865,
          1.13016,
          1.13124,
          1.13186,
          1.13154,
          1.13114,
          1.13174,
          1.13153,
          1.13122,
          1.13107,
          1.13086,
          1.13054,
          1.12951,
          1.12979,
          1.12948,
          1.12972,
          1.12852,
          1.12906,
          1.12744,
          1.12683,
          1.12706,
          1.12744,
          1.12762,
          1.12842,
          1.12872,
          1.12754,
          1.12972,
          1.12933,
          1.1295,
          1.12872,
          1.12842,
          1.12844,
          1.12827,
          1.12833,
          1.1278,
          1.12822,
          1.12828,
          1.12734,
          1.12773,
          1.1278,
          1.12774,
          1.12707,
          1.12822,
          1.13014,
          1.13154,
          1.13186,
          1.13096,
          1.13083,
          1.13008,
          1.12727,
          1.12663,
          1.12718,
          1.12651,
          1.1256,
          1.12544,
          1.12584,
          1.12567,
          1.12577,
          1.12654,
          1.1268,
          1.1262,
          1.12598,
          1.1264,
          1.12691,
          1.12752,
          1.12643,
          1.12724,
          1.12716,
          1.12674,
          1.127,
          1.12634,
          1.12736,
          1.12586,
          1.12519,
          1.126,
          1.12604,
          1.1259,
          1.12724,
          1.1288,
          1.12905,
          1.12943,
          1.12906,
          1.1283,
          1.1287,
          1.12893,
          1.12858,
          1.12864,
          1.12857,
          1.12918,
          1.13052,
          1.13181,
          1.13132,
          1.12998,
          1.1296,
          1.1328,
          1.13593,
          1.1327,
          1.1307,
          1.13103,
          1.1318,
          1.1321,
          1.13248,
          1.1333,
          1.13316,
          1.13304,
          1.1334,
          1.13286,
          1.1321,
          1.13249,
          1.13272,
          1.13354,
          1.13482,
          1.13337,
          1.13182,
          1.13358,
          1.13342,
          1.13254,
          1.13185,
          1.13305,
          1.13074,
          1.13068,
          1.12742,
          1.1277,
          1.1268,
          1.12535,
          1.12521,
          1.1237,
          1.1238,
          1.12378,
          1.1243,
          1.12502,
          1.12388,
          1.12482,
          1.12483,
          1.12494,
          1.12542,
          1.12521,
          1.12554,
          1.1268,
          1.12622,
          1.12668,
          1.12707,
          1.12686,
          1.12934,
          1.1299,
          1.1289,
          1.12963,
          1.12841,
          1.12808,
          1.12741,
          1.12741
         ],
         "type": "ohlc",
         "x": [
          "2021-12-06T21:00:00+00:00",
          "2021-12-06T22:00:00+00:00",
          "2021-12-06T23:00:00+00:00",
          "2021-12-07T00:00:00+00:00",
          "2021-12-07T01:00:00+00:00",
          "2021-12-07T02:00:00+00:00",
          "2021-12-07T03:00:00+00:00",
          "2021-12-07T04:00:00+00:00",
          "2021-12-07T05:00:00+00:00",
          "2021-12-07T06:00:00+00:00",
          "2021-12-07T07:00:00+00:00",
          "2021-12-07T08:00:00+00:00",
          "2021-12-07T09:00:00+00:00",
          "2021-12-07T10:00:00+00:00",
          "2021-12-07T11:00:00+00:00",
          "2021-12-07T12:00:00+00:00",
          "2021-12-07T13:00:00+00:00",
          "2021-12-07T14:00:00+00:00",
          "2021-12-07T15:00:00+00:00",
          "2021-12-07T16:00:00+00:00",
          "2021-12-07T17:00:00+00:00",
          "2021-12-07T18:00:00+00:00",
          "2021-12-07T19:00:00+00:00",
          "2021-12-07T20:00:00+00:00",
          "2021-12-07T21:00:00+00:00",
          "2021-12-07T22:00:00+00:00",
          "2021-12-07T23:00:00+00:00",
          "2021-12-08T00:00:00+00:00",
          "2021-12-08T01:00:00+00:00",
          "2021-12-08T02:00:00+00:00",
          "2021-12-08T03:00:00+00:00",
          "2021-12-08T04:00:00+00:00",
          "2021-12-08T05:00:00+00:00",
          "2021-12-08T06:00:00+00:00",
          "2021-12-08T07:00:00+00:00",
          "2021-12-08T08:00:00+00:00",
          "2021-12-08T09:00:00+00:00",
          "2021-12-08T10:00:00+00:00",
          "2021-12-08T11:00:00+00:00",
          "2021-12-08T12:00:00+00:00",
          "2021-12-08T13:00:00+00:00",
          "2021-12-08T14:00:00+00:00",
          "2021-12-08T15:00:00+00:00",
          "2021-12-08T16:00:00+00:00",
          "2021-12-08T17:00:00+00:00",
          "2021-12-08T18:00:00+00:00",
          "2021-12-08T19:00:00+00:00",
          "2021-12-08T20:00:00+00:00",
          "2021-12-08T21:00:00+00:00",
          "2021-12-08T22:00:00+00:00",
          "2021-12-08T23:00:00+00:00",
          "2021-12-09T00:00:00+00:00",
          "2021-12-09T01:00:00+00:00",
          "2021-12-09T02:00:00+00:00",
          "2021-12-09T03:00:00+00:00",
          "2021-12-09T04:00:00+00:00",
          "2021-12-09T05:00:00+00:00",
          "2021-12-09T06:00:00+00:00",
          "2021-12-09T07:00:00+00:00",
          "2021-12-09T08:00:00+00:00",
          "2021-12-09T09:00:00+00:00",
          "2021-12-09T10:00:00+00:00",
          "2021-12-09T11:00:00+00:00",
          "2021-12-09T12:00:00+00:00",
          "2021-12-09T13:00:00+00:00",
          "2021-12-09T14:00:00+00:00",
          "2021-12-09T15:00:00+00:00",
          "2021-12-09T16:00:00+00:00",
          "2021-12-09T17:00:00+00:00",
          "2021-12-09T18:00:00+00:00",
          "2021-12-09T19:00:00+00:00",
          "2021-12-09T20:00:00+00:00",
          "2021-12-09T21:00:00+00:00",
          "2021-12-09T22:00:00+00:00",
          "2021-12-09T23:00:00+00:00",
          "2021-12-10T00:00:00+00:00",
          "2021-12-10T01:00:00+00:00",
          "2021-12-10T02:00:00+00:00",
          "2021-12-10T03:00:00+00:00",
          "2021-12-10T04:00:00+00:00",
          "2021-12-10T05:00:00+00:00",
          "2021-12-10T06:00:00+00:00",
          "2021-12-10T07:00:00+00:00",
          "2021-12-10T08:00:00+00:00",
          "2021-12-10T09:00:00+00:00",
          "2021-12-10T10:00:00+00:00",
          "2021-12-10T11:00:00+00:00",
          "2021-12-10T12:00:00+00:00",
          "2021-12-10T13:00:00+00:00",
          "2021-12-10T14:00:00+00:00",
          "2021-12-10T15:00:00+00:00",
          "2021-12-10T16:00:00+00:00",
          "2021-12-10T17:00:00+00:00",
          "2021-12-10T18:00:00+00:00",
          "2021-12-10T19:00:00+00:00",
          "2021-12-10T20:00:00+00:00",
          "2021-12-10T21:00:00+00:00",
          "2021-12-12T22:00:00+00:00",
          "2021-12-12T23:00:00+00:00",
          "2021-12-13T00:00:00+00:00",
          "2021-12-13T01:00:00+00:00",
          "2021-12-13T02:00:00+00:00",
          "2021-12-13T03:00:00+00:00",
          "2021-12-13T04:00:00+00:00",
          "2021-12-13T05:00:00+00:00",
          "2021-12-13T06:00:00+00:00",
          "2021-12-13T07:00:00+00:00",
          "2021-12-13T08:00:00+00:00",
          "2021-12-13T09:00:00+00:00",
          "2021-12-13T10:00:00+00:00",
          "2021-12-13T11:00:00+00:00",
          "2021-12-13T12:00:00+00:00",
          "2021-12-13T13:00:00+00:00",
          "2021-12-13T14:00:00+00:00",
          "2021-12-13T15:00:00+00:00",
          "2021-12-13T16:00:00+00:00",
          "2021-12-13T17:00:00+00:00",
          "2021-12-13T18:00:00+00:00",
          "2021-12-13T19:00:00+00:00",
          "2021-12-13T20:00:00+00:00",
          "2021-12-13T21:00:00+00:00",
          "2021-12-13T22:00:00+00:00",
          "2021-12-13T23:00:00+00:00",
          "2021-12-14T00:00:00+00:00",
          "2021-12-14T01:00:00+00:00",
          "2021-12-14T02:00:00+00:00",
          "2021-12-14T03:00:00+00:00",
          "2021-12-14T04:00:00+00:00",
          "2021-12-14T05:00:00+00:00",
          "2021-12-14T06:00:00+00:00",
          "2021-12-14T07:00:00+00:00",
          "2021-12-14T08:00:00+00:00",
          "2021-12-14T09:00:00+00:00",
          "2021-12-14T10:00:00+00:00",
          "2021-12-14T11:00:00+00:00",
          "2021-12-14T12:00:00+00:00",
          "2021-12-14T13:00:00+00:00",
          "2021-12-14T14:00:00+00:00",
          "2021-12-14T15:00:00+00:00",
          "2021-12-14T16:00:00+00:00",
          "2021-12-14T17:00:00+00:00",
          "2021-12-14T18:00:00+00:00",
          "2021-12-14T19:00:00+00:00",
          "2021-12-14T20:00:00+00:00",
          "2021-12-14T21:00:00+00:00",
          "2021-12-14T22:00:00+00:00",
          "2021-12-14T23:00:00+00:00",
          "2021-12-15T00:00:00+00:00",
          "2021-12-15T01:00:00+00:00",
          "2021-12-15T02:00:00+00:00",
          "2021-12-15T03:00:00+00:00",
          "2021-12-15T04:00:00+00:00",
          "2021-12-15T05:00:00+00:00",
          "2021-12-15T06:00:00+00:00",
          "2021-12-15T07:00:00+00:00",
          "2021-12-15T08:00:00+00:00",
          "2021-12-15T09:00:00+00:00",
          "2021-12-15T10:00:00+00:00",
          "2021-12-15T11:00:00+00:00",
          "2021-12-15T12:00:00+00:00",
          "2021-12-15T13:00:00+00:00",
          "2021-12-15T14:00:00+00:00",
          "2021-12-15T15:00:00+00:00",
          "2021-12-15T16:00:00+00:00",
          "2021-12-15T17:00:00+00:00",
          "2021-12-15T18:00:00+00:00",
          "2021-12-15T19:00:00+00:00",
          "2021-12-15T20:00:00+00:00",
          "2021-12-15T21:00:00+00:00",
          "2021-12-15T22:00:00+00:00",
          "2021-12-15T23:00:00+00:00",
          "2021-12-16T00:00:00+00:00",
          "2021-12-16T01:00:00+00:00",
          "2021-12-16T02:00:00+00:00",
          "2021-12-16T03:00:00+00:00",
          "2021-12-16T04:00:00+00:00",
          "2021-12-16T05:00:00+00:00",
          "2021-12-16T06:00:00+00:00",
          "2021-12-16T07:00:00+00:00",
          "2021-12-16T08:00:00+00:00",
          "2021-12-16T09:00:00+00:00",
          "2021-12-16T10:00:00+00:00",
          "2021-12-16T11:00:00+00:00",
          "2021-12-16T12:00:00+00:00",
          "2021-12-16T13:00:00+00:00",
          "2021-12-16T14:00:00+00:00",
          "2021-12-16T15:00:00+00:00",
          "2021-12-16T16:00:00+00:00",
          "2021-12-16T17:00:00+00:00",
          "2021-12-16T18:00:00+00:00",
          "2021-12-16T19:00:00+00:00",
          "2021-12-16T20:00:00+00:00",
          "2021-12-16T21:00:00+00:00",
          "2021-12-16T22:00:00+00:00",
          "2021-12-16T23:00:00+00:00",
          "2021-12-17T00:00:00+00:00",
          "2021-12-17T01:00:00+00:00",
          "2021-12-17T02:00:00+00:00",
          "2021-12-17T03:00:00+00:00",
          "2021-12-17T04:00:00+00:00",
          "2021-12-17T05:00:00+00:00",
          "2021-12-17T06:00:00+00:00",
          "2021-12-17T07:00:00+00:00",
          "2021-12-17T08:00:00+00:00",
          "2021-12-17T09:00:00+00:00",
          "2021-12-17T10:00:00+00:00",
          "2021-12-17T11:00:00+00:00",
          "2021-12-17T12:00:00+00:00",
          "2021-12-17T13:00:00+00:00",
          "2021-12-17T14:00:00+00:00",
          "2021-12-17T15:00:00+00:00",
          "2021-12-17T16:00:00+00:00",
          "2021-12-17T17:00:00+00:00",
          "2021-12-17T18:00:00+00:00",
          "2021-12-17T19:00:00+00:00",
          "2021-12-17T20:00:00+00:00",
          "2021-12-17T21:00:00+00:00",
          "2021-12-19T22:00:00+00:00",
          "2021-12-19T23:00:00+00:00",
          "2021-12-20T00:00:00+00:00",
          "2021-12-20T01:00:00+00:00",
          "2021-12-20T02:00:00+00:00",
          "2021-12-20T03:00:00+00:00",
          "2021-12-20T04:00:00+00:00",
          "2021-12-20T05:00:00+00:00",
          "2021-12-20T06:00:00+00:00",
          "2021-12-20T07:00:00+00:00",
          "2021-12-20T08:00:00+00:00",
          "2021-12-20T09:00:00+00:00",
          "2021-12-20T10:00:00+00:00",
          "2021-12-20T11:00:00+00:00",
          "2021-12-20T12:00:00+00:00",
          "2021-12-20T13:00:00+00:00",
          "2021-12-20T14:00:00+00:00",
          "2021-12-20T15:00:00+00:00",
          "2021-12-20T16:00:00+00:00",
          "2021-12-20T17:00:00+00:00",
          "2021-12-20T18:00:00+00:00",
          "2021-12-20T19:00:00+00:00",
          "2021-12-20T20:00:00+00:00",
          "2021-12-20T20:00:00+00:00"
         ]
        },
        {
         "line": {
          "color": "blue",
          "width": 1
         },
         "type": "scatter",
         "x": [
          "2021-12-06T21:00:00+00:00",
          "2021-12-06T22:00:00+00:00",
          "2021-12-06T23:00:00+00:00",
          "2021-12-07T00:00:00+00:00",
          "2021-12-07T01:00:00+00:00",
          "2021-12-07T02:00:00+00:00",
          "2021-12-07T03:00:00+00:00",
          "2021-12-07T04:00:00+00:00",
          "2021-12-07T05:00:00+00:00",
          "2021-12-07T06:00:00+00:00",
          "2021-12-07T07:00:00+00:00",
          "2021-12-07T08:00:00+00:00",
          "2021-12-07T09:00:00+00:00",
          "2021-12-07T10:00:00+00:00",
          "2021-12-07T11:00:00+00:00",
          "2021-12-07T12:00:00+00:00",
          "2021-12-07T13:00:00+00:00",
          "2021-12-07T14:00:00+00:00",
          "2021-12-07T15:00:00+00:00",
          "2021-12-07T16:00:00+00:00",
          "2021-12-07T17:00:00+00:00",
          "2021-12-07T18:00:00+00:00",
          "2021-12-07T19:00:00+00:00",
          "2021-12-07T20:00:00+00:00",
          "2021-12-07T21:00:00+00:00",
          "2021-12-07T22:00:00+00:00",
          "2021-12-07T23:00:00+00:00",
          "2021-12-08T00:00:00+00:00",
          "2021-12-08T01:00:00+00:00",
          "2021-12-08T02:00:00+00:00",
          "2021-12-08T03:00:00+00:00",
          "2021-12-08T04:00:00+00:00",
          "2021-12-08T05:00:00+00:00",
          "2021-12-08T06:00:00+00:00",
          "2021-12-08T07:00:00+00:00",
          "2021-12-08T08:00:00+00:00",
          "2021-12-08T09:00:00+00:00",
          "2021-12-08T10:00:00+00:00",
          "2021-12-08T11:00:00+00:00",
          "2021-12-08T12:00:00+00:00",
          "2021-12-08T13:00:00+00:00",
          "2021-12-08T14:00:00+00:00",
          "2021-12-08T15:00:00+00:00",
          "2021-12-08T16:00:00+00:00",
          "2021-12-08T17:00:00+00:00",
          "2021-12-08T18:00:00+00:00",
          "2021-12-08T19:00:00+00:00",
          "2021-12-08T20:00:00+00:00",
          "2021-12-08T21:00:00+00:00",
          "2021-12-08T22:00:00+00:00",
          "2021-12-08T23:00:00+00:00",
          "2021-12-09T00:00:00+00:00",
          "2021-12-09T01:00:00+00:00",
          "2021-12-09T02:00:00+00:00",
          "2021-12-09T03:00:00+00:00",
          "2021-12-09T04:00:00+00:00",
          "2021-12-09T05:00:00+00:00",
          "2021-12-09T06:00:00+00:00",
          "2021-12-09T07:00:00+00:00",
          "2021-12-09T08:00:00+00:00",
          "2021-12-09T09:00:00+00:00",
          "2021-12-09T10:00:00+00:00",
          "2021-12-09T11:00:00+00:00",
          "2021-12-09T12:00:00+00:00",
          "2021-12-09T13:00:00+00:00",
          "2021-12-09T14:00:00+00:00",
          "2021-12-09T15:00:00+00:00",
          "2021-12-09T16:00:00+00:00",
          "2021-12-09T17:00:00+00:00",
          "2021-12-09T18:00:00+00:00",
          "2021-12-09T19:00:00+00:00",
          "2021-12-09T20:00:00+00:00",
          "2021-12-09T21:00:00+00:00",
          "2021-12-09T22:00:00+00:00",
          "2021-12-09T23:00:00+00:00",
          "2021-12-10T00:00:00+00:00",
          "2021-12-10T01:00:00+00:00",
          "2021-12-10T02:00:00+00:00",
          "2021-12-10T03:00:00+00:00",
          "2021-12-10T04:00:00+00:00",
          "2021-12-10T05:00:00+00:00",
          "2021-12-10T06:00:00+00:00",
          "2021-12-10T07:00:00+00:00",
          "2021-12-10T08:00:00+00:00",
          "2021-12-10T09:00:00+00:00",
          "2021-12-10T10:00:00+00:00",
          "2021-12-10T11:00:00+00:00",
          "2021-12-10T12:00:00+00:00",
          "2021-12-10T13:00:00+00:00",
          "2021-12-10T14:00:00+00:00",
          "2021-12-10T15:00:00+00:00",
          "2021-12-10T16:00:00+00:00",
          "2021-12-10T17:00:00+00:00",
          "2021-12-10T18:00:00+00:00",
          "2021-12-10T19:00:00+00:00",
          "2021-12-10T20:00:00+00:00",
          "2021-12-10T21:00:00+00:00",
          "2021-12-12T22:00:00+00:00",
          "2021-12-12T23:00:00+00:00",
          "2021-12-13T00:00:00+00:00",
          "2021-12-13T01:00:00+00:00",
          "2021-12-13T02:00:00+00:00",
          "2021-12-13T03:00:00+00:00",
          "2021-12-13T04:00:00+00:00",
          "2021-12-13T05:00:00+00:00",
          "2021-12-13T06:00:00+00:00",
          "2021-12-13T07:00:00+00:00",
          "2021-12-13T08:00:00+00:00",
          "2021-12-13T09:00:00+00:00",
          "2021-12-13T10:00:00+00:00",
          "2021-12-13T11:00:00+00:00",
          "2021-12-13T12:00:00+00:00",
          "2021-12-13T13:00:00+00:00",
          "2021-12-13T14:00:00+00:00",
          "2021-12-13T15:00:00+00:00",
          "2021-12-13T16:00:00+00:00",
          "2021-12-13T17:00:00+00:00",
          "2021-12-13T18:00:00+00:00",
          "2021-12-13T19:00:00+00:00",
          "2021-12-13T20:00:00+00:00",
          "2021-12-13T21:00:00+00:00",
          "2021-12-13T22:00:00+00:00",
          "2021-12-13T23:00:00+00:00",
          "2021-12-14T00:00:00+00:00",
          "2021-12-14T01:00:00+00:00",
          "2021-12-14T02:00:00+00:00",
          "2021-12-14T03:00:00+00:00",
          "2021-12-14T04:00:00+00:00",
          "2021-12-14T05:00:00+00:00",
          "2021-12-14T06:00:00+00:00",
          "2021-12-14T07:00:00+00:00",
          "2021-12-14T08:00:00+00:00",
          "2021-12-14T09:00:00+00:00",
          "2021-12-14T10:00:00+00:00",
          "2021-12-14T11:00:00+00:00",
          "2021-12-14T12:00:00+00:00",
          "2021-12-14T13:00:00+00:00",
          "2021-12-14T14:00:00+00:00",
          "2021-12-14T15:00:00+00:00",
          "2021-12-14T16:00:00+00:00",
          "2021-12-14T17:00:00+00:00",
          "2021-12-14T18:00:00+00:00",
          "2021-12-14T19:00:00+00:00",
          "2021-12-14T20:00:00+00:00",
          "2021-12-14T21:00:00+00:00",
          "2021-12-14T22:00:00+00:00",
          "2021-12-14T23:00:00+00:00",
          "2021-12-15T00:00:00+00:00",
          "2021-12-15T01:00:00+00:00",
          "2021-12-15T02:00:00+00:00",
          "2021-12-15T03:00:00+00:00",
          "2021-12-15T04:00:00+00:00",
          "2021-12-15T05:00:00+00:00",
          "2021-12-15T06:00:00+00:00",
          "2021-12-15T07:00:00+00:00",
          "2021-12-15T08:00:00+00:00",
          "2021-12-15T09:00:00+00:00",
          "2021-12-15T10:00:00+00:00",
          "2021-12-15T11:00:00+00:00",
          "2021-12-15T12:00:00+00:00",
          "2021-12-15T13:00:00+00:00",
          "2021-12-15T14:00:00+00:00",
          "2021-12-15T15:00:00+00:00",
          "2021-12-15T16:00:00+00:00",
          "2021-12-15T17:00:00+00:00",
          "2021-12-15T18:00:00+00:00",
          "2021-12-15T19:00:00+00:00",
          "2021-12-15T20:00:00+00:00",
          "2021-12-15T21:00:00+00:00",
          "2021-12-15T22:00:00+00:00",
          "2021-12-15T23:00:00+00:00",
          "2021-12-16T00:00:00+00:00",
          "2021-12-16T01:00:00+00:00",
          "2021-12-16T02:00:00+00:00",
          "2021-12-16T03:00:00+00:00",
          "2021-12-16T04:00:00+00:00",
          "2021-12-16T05:00:00+00:00",
          "2021-12-16T06:00:00+00:00",
          "2021-12-16T07:00:00+00:00",
          "2021-12-16T08:00:00+00:00",
          "2021-12-16T09:00:00+00:00",
          "2021-12-16T10:00:00+00:00",
          "2021-12-16T11:00:00+00:00",
          "2021-12-16T12:00:00+00:00",
          "2021-12-16T13:00:00+00:00",
          "2021-12-16T14:00:00+00:00",
          "2021-12-16T15:00:00+00:00",
          "2021-12-16T16:00:00+00:00",
          "2021-12-16T17:00:00+00:00",
          "2021-12-16T18:00:00+00:00",
          "2021-12-16T19:00:00+00:00",
          "2021-12-16T20:00:00+00:00",
          "2021-12-16T21:00:00+00:00",
          "2021-12-16T22:00:00+00:00",
          "2021-12-16T23:00:00+00:00",
          "2021-12-17T00:00:00+00:00",
          "2021-12-17T01:00:00+00:00",
          "2021-12-17T02:00:00+00:00",
          "2021-12-17T03:00:00+00:00",
          "2021-12-17T04:00:00+00:00",
          "2021-12-17T05:00:00+00:00",
          "2021-12-17T06:00:00+00:00",
          "2021-12-17T07:00:00+00:00",
          "2021-12-17T08:00:00+00:00",
          "2021-12-17T09:00:00+00:00",
          "2021-12-17T10:00:00+00:00",
          "2021-12-17T11:00:00+00:00",
          "2021-12-17T12:00:00+00:00",
          "2021-12-17T13:00:00+00:00",
          "2021-12-17T14:00:00+00:00",
          "2021-12-17T15:00:00+00:00",
          "2021-12-17T16:00:00+00:00",
          "2021-12-17T17:00:00+00:00",
          "2021-12-17T18:00:00+00:00",
          "2021-12-17T19:00:00+00:00",
          "2021-12-17T20:00:00+00:00",
          "2021-12-17T21:00:00+00:00",
          "2021-12-19T22:00:00+00:00",
          "2021-12-19T23:00:00+00:00",
          "2021-12-20T00:00:00+00:00",
          "2021-12-20T01:00:00+00:00",
          "2021-12-20T02:00:00+00:00",
          "2021-12-20T03:00:00+00:00",
          "2021-12-20T04:00:00+00:00",
          "2021-12-20T05:00:00+00:00",
          "2021-12-20T06:00:00+00:00",
          "2021-12-20T07:00:00+00:00",
          "2021-12-20T08:00:00+00:00",
          "2021-12-20T09:00:00+00:00",
          "2021-12-20T10:00:00+00:00",
          "2021-12-20T11:00:00+00:00",
          "2021-12-20T12:00:00+00:00",
          "2021-12-20T13:00:00+00:00",
          "2021-12-20T14:00:00+00:00",
          "2021-12-20T15:00:00+00:00",
          "2021-12-20T16:00:00+00:00",
          "2021-12-20T17:00:00+00:00",
          "2021-12-20T18:00:00+00:00",
          "2021-12-20T19:00:00+00:00",
          "2021-12-20T20:00:00+00:00",
          "2021-12-20T20:00:00+00:00"
         ],
         "y": [
          null,
          null,
          null,
          null,
          null,
          1.128435,
          1.1285166666666668,
          1.1285999999999998,
          1.12866,
          1.1288966666666667,
          1.12901,
          1.1287316666666667,
          1.1284683333333334,
          1.1280083333333333,
          1.1275166666666667,
          1.1268266666666666,
          1.1260166666666667,
          1.1255249999999999,
          1.1250433333333334,
          1.12482,
          1.1245916666666667,
          1.124595,
          1.1249483333333334,
          1.125315,
          1.1256933333333332,
          1.1260533333333334,
          1.12653,
          1.12688,
          1.1271766666666665,
          1.12757,
          1.1279566666666667,
          1.1283216666666667,
          1.1286716666666667,
          1.12892,
          1.1290383333333334,
          1.1289083333333334,
          1.1287966666666667,
          1.12882,
          1.1285333333333332,
          1.1285749999999999,
          1.1290766666666665,
          1.1294166666666667,
          1.1302116666666666,
          1.1308166666666668,
          1.13202,
          1.1329233333333335,
          1.1334766666666667,
          1.1342233333333334,
          1.1343983333333334,
          1.134625,
          1.1345516666666666,
          1.1344583333333333,
          1.134205,
          1.1339583333333334,
          1.133816666666667,
          1.13372,
          1.1334333333333333,
          1.1332366666666667,
          1.1330016666666667,
          1.1328116666666668,
          1.1325516666666666,
          1.1321816666666666,
          1.1320133333333333,
          1.13171,
          1.1316499999999998,
          1.1313133333333334,
          1.1307266666666667,
          1.13025,
          1.1298000000000001,
          1.1295333333333335,
          1.129045,
          1.1289166666666668,
          1.1290716666666667,
          1.1291983333333333,
          1.1292633333333333,
          1.12918,
          1.12934,
          1.12946,
          1.129545,
          1.1296483333333331,
          1.1296683333333333,
          1.1298183333333334,
          1.1297716666666666,
          1.1295066666666667,
          1.1292366666666667,
          1.1287266666666667,
          1.1282750000000001,
          1.1279683333333332,
          1.1279583333333332,
          1.1279649999999999,
          1.1282916666666667,
          1.1290183333333335,
          1.1298666666666668,
          1.1304649999999998,
          1.1307583333333333,
          1.1312783333333332,
          1.1315449999999998,
          1.1315366666666666,
          1.131405,
          1.13129,
          1.1311966666666666,
          1.1308266666666666,
          1.1304966666666667,
          1.1302183333333333,
          1.1299916666666665,
          1.1296083333333333,
          1.1293566666666668,
          1.12901,
          1.1285166666666666,
          1.1281116666666666,
          1.12773,
          1.1275766666666667,
          1.127475,
          1.1276866666666667,
          1.1278066666666666,
          1.1282466666666668,
          1.12856,
          1.1288733333333334,
          1.1289216666666666,
          1.1288766666666668,
          1.1290533333333335,
          1.1288166666666666,
          1.1286533333333333,
          1.1283666666666667,
          1.128285,
          1.1282616666666667,
          1.1280516666666667,
          1.12796,
          1.1278666666666666,
          1.1278616666666668,
          1.1276683333333333,
          1.1276583333333334,
          1.12812,
          1.128755,
          1.1294366666666666,
          1.1299683333333332,
          1.1305950000000002,
          1.1308983333333333,
          1.1304233333333336,
          1.129605,
          1.1288250000000002,
          1.1280850000000002,
          1.1272083333333331,
          1.126435,
          1.1261783333333333,
          1.126025,
          1.12579,
          1.1257933333333334,
          1.126,
          1.12613,
          1.12617,
          1.126285,
          1.126475,
          1.126645,
          1.1265783333333335,
          1.126755,
          1.126955,
          1.1270083333333334,
          1.1270183333333332,
          1.126815,
          1.1269683333333333,
          1.1267366666666667,
          1.1264066666666668,
          1.1262816666666666,
          1.1261216666666667,
          1.1260583333333332,
          1.126045,
          1.12653,
          1.1272433333333332,
          1.1278083333333333,
          1.1283116666666666,
          1.1287083333333332,
          1.12895,
          1.1289716666666667,
          1.1288200000000002,
          1.128701666666667,
          1.1286216666666666,
          1.1287616666666667,
          1.1290666666666669,
          1.129545,
          1.1300066666666666,
          1.130225,
          1.1304,
          1.1310033333333334,
          1.1319,
          1.1320566666666665,
          1.1319516666666667,
          1.1321299999999999,
          1.1324966666666667,
          1.13238,
          1.1318083333333335,
          1.1319083333333333,
          1.1323,
          1.1326366666666667,
          1.1328983333333333,
          1.13303,
          1.1329683333333334,
          1.1328283333333333,
          1.1327683333333332,
          1.1328516666666666,
          1.133095,
          1.13318,
          1.13313,
          1.1333116666666667,
          1.1334350000000002,
          1.1332633333333335,
          1.1327633333333333,
          1.1327066666666668,
          1.132525,
          1.13204,
          1.1310333333333333,
          1.130225,
          1.1293883333333332,
          1.128105,
          1.1271883333333335,
          1.126025,
          1.1253916666666666,
          1.1247383333333334,
          1.12432,
          1.1242633333333334,
          1.124035,
          1.1242283333333334,
          1.124435,
          1.1246316666666667,
          1.1248200000000002,
          1.1248566666666666,
          1.1251333333333333,
          1.1254583333333334,
          1.1256866666666665,
          1.1259733333333333,
          1.1262416666666668,
          1.1265183333333335,
          1.1271516666666666,
          1.1276716666666666,
          1.12812,
          1.1286166666666666,
          1.128845,
          1.1290483333333332,
          1.1287316666666667,
          1.1283200000000002,
          1.1280766666666668
         ]
        }
       ],
       "layout": {
        "template": {
         "data": {
          "bar": [
           {
            "error_x": {
             "color": "#2a3f5f"
            },
            "error_y": {
             "color": "#2a3f5f"
            },
            "marker": {
             "line": {
              "color": "#E5ECF6",
              "width": 0.5
             },
             "pattern": {
              "fillmode": "overlay",
              "size": 10,
              "solidity": 0.2
             }
            },
            "type": "bar"
           }
          ],
          "barpolar": [
           {
            "marker": {
             "line": {
              "color": "#E5ECF6",
              "width": 0.5
             },
             "pattern": {
              "fillmode": "overlay",
              "size": 10,
              "solidity": 0.2
             }
            },
            "type": "barpolar"
           }
          ],
          "carpet": [
           {
            "aaxis": {
             "endlinecolor": "#2a3f5f",
             "gridcolor": "white",
             "linecolor": "white",
             "minorgridcolor": "white",
             "startlinecolor": "#2a3f5f"
            },
            "baxis": {
             "endlinecolor": "#2a3f5f",
             "gridcolor": "white",
             "linecolor": "white",
             "minorgridcolor": "white",
             "startlinecolor": "#2a3f5f"
            },
            "type": "carpet"
           }
          ],
          "choropleth": [
           {
            "colorbar": {
             "outlinewidth": 0,
             "ticks": ""
            },
            "type": "choropleth"
           }
          ],
          "contour": [
           {
            "colorbar": {
             "outlinewidth": 0,
             "ticks": ""
            },
            "colorscale": [
             [
              0,
              "#0d0887"
             ],
             [
              0.1111111111111111,
              "#46039f"
             ],
             [
              0.2222222222222222,
              "#7201a8"
             ],
             [
              0.3333333333333333,
              "#9c179e"
             ],
             [
              0.4444444444444444,
              "#bd3786"
             ],
             [
              0.5555555555555556,
              "#d8576b"
             ],
             [
              0.6666666666666666,
              "#ed7953"
             ],
             [
              0.7777777777777778,
              "#fb9f3a"
             ],
             [
              0.8888888888888888,
              "#fdca26"
             ],
             [
              1,
              "#f0f921"
             ]
            ],
            "type": "contour"
           }
          ],
          "contourcarpet": [
           {
            "colorbar": {
             "outlinewidth": 0,
             "ticks": ""
            },
            "type": "contourcarpet"
           }
          ],
          "heatmap": [
           {
            "colorbar": {
             "outlinewidth": 0,
             "ticks": ""
            },
            "colorscale": [
             [
              0,
              "#0d0887"
             ],
             [
              0.1111111111111111,
              "#46039f"
             ],
             [
              0.2222222222222222,
              "#7201a8"
             ],
             [
              0.3333333333333333,
              "#9c179e"
             ],
             [
              0.4444444444444444,
              "#bd3786"
             ],
             [
              0.5555555555555556,
              "#d8576b"
             ],
             [
              0.6666666666666666,
              "#ed7953"
             ],
             [
              0.7777777777777778,
              "#fb9f3a"
             ],
             [
              0.8888888888888888,
              "#fdca26"
             ],
             [
              1,
              "#f0f921"
             ]
            ],
            "type": "heatmap"
           }
          ],
          "heatmapgl": [
           {
            "colorbar": {
             "outlinewidth": 0,
             "ticks": ""
            },
            "colorscale": [
             [
              0,
              "#0d0887"
             ],
             [
              0.1111111111111111,
              "#46039f"
             ],
             [
              0.2222222222222222,
              "#7201a8"
             ],
             [
              0.3333333333333333,
              "#9c179e"
             ],
             [
              0.4444444444444444,
              "#bd3786"
             ],
             [
              0.5555555555555556,
              "#d8576b"
             ],
             [
              0.6666666666666666,
              "#ed7953"
             ],
             [
              0.7777777777777778,
              "#fb9f3a"
             ],
             [
              0.8888888888888888,
              "#fdca26"
             ],
             [
              1,
              "#f0f921"
             ]
            ],
            "type": "heatmapgl"
           }
          ],
          "histogram": [
           {
            "marker": {
             "pattern": {
              "fillmode": "overlay",
              "size": 10,
              "solidity": 0.2
             }
            },
            "type": "histogram"
           }
          ],
          "histogram2d": [
           {
            "colorbar": {
             "outlinewidth": 0,
             "ticks": ""
            },
            "colorscale": [
             [
              0,
              "#0d0887"
             ],
             [
              0.1111111111111111,
              "#46039f"
             ],
             [
              0.2222222222222222,
              "#7201a8"
             ],
             [
              0.3333333333333333,
              "#9c179e"
             ],
             [
              0.4444444444444444,
              "#bd3786"
             ],
             [
              0.5555555555555556,
              "#d8576b"
             ],
             [
              0.6666666666666666,
              "#ed7953"
             ],
             [
              0.7777777777777778,
              "#fb9f3a"
             ],
             [
              0.8888888888888888,
              "#fdca26"
             ],
             [
              1,
              "#f0f921"
             ]
            ],
            "type": "histogram2d"
           }
          ],
          "histogram2dcontour": [
           {
            "colorbar": {
             "outlinewidth": 0,
             "ticks": ""
            },
            "colorscale": [
             [
              0,
              "#0d0887"
             ],
             [
              0.1111111111111111,
              "#46039f"
             ],
             [
              0.2222222222222222,
              "#7201a8"
             ],
             [
              0.3333333333333333,
              "#9c179e"
             ],
             [
              0.4444444444444444,
              "#bd3786"
             ],
             [
              0.5555555555555556,
              "#d8576b"
             ],
             [
              0.6666666666666666,
              "#ed7953"
             ],
             [
              0.7777777777777778,
              "#fb9f3a"
             ],
             [
              0.8888888888888888,
              "#fdca26"
             ],
             [
              1,
              "#f0f921"
             ]
            ],
            "type": "histogram2dcontour"
           }
          ],
          "mesh3d": [
           {
            "colorbar": {
             "outlinewidth": 0,
             "ticks": ""
            },
            "type": "mesh3d"
           }
          ],
          "parcoords": [
           {
            "line": {
             "colorbar": {
              "outlinewidth": 0,
              "ticks": ""
             }
            },
            "type": "parcoords"
           }
          ],
          "pie": [
           {
            "automargin": true,
            "type": "pie"
           }
          ],
          "scatter": [
           {
            "marker": {
             "colorbar": {
              "outlinewidth": 0,
              "ticks": ""
             }
            },
            "type": "scatter"
           }
          ],
          "scatter3d": [
           {
            "line": {
             "colorbar": {
              "outlinewidth": 0,
              "ticks": ""
             }
            },
            "marker": {
             "colorbar": {
              "outlinewidth": 0,
              "ticks": ""
             }
            },
            "type": "scatter3d"
           }
          ],
          "scattercarpet": [
           {
            "marker": {
             "colorbar": {
              "outlinewidth": 0,
              "ticks": ""
             }
            },
            "type": "scattercarpet"
           }
          ],
          "scattergeo": [
           {
            "marker": {
             "colorbar": {
              "outlinewidth": 0,
              "ticks": ""
             }
            },
            "type": "scattergeo"
           }
          ],
          "scattergl": [
           {
            "marker": {
             "colorbar": {
              "outlinewidth": 0,
              "ticks": ""
             }
            },
            "type": "scattergl"
           }
          ],
          "scattermapbox": [
           {
            "marker": {
             "colorbar": {
              "outlinewidth": 0,
              "ticks": ""
             }
            },
            "type": "scattermapbox"
           }
          ],
          "scatterpolar": [
           {
            "marker": {
             "colorbar": {
              "outlinewidth": 0,
              "ticks": ""
             }
            },
            "type": "scatterpolar"
           }
          ],
          "scatterpolargl": [
           {
            "marker": {
             "colorbar": {
              "outlinewidth": 0,
              "ticks": ""
             }
            },
            "type": "scatterpolargl"
           }
          ],
          "scatterternary": [
           {
            "marker": {
             "colorbar": {
              "outlinewidth": 0,
              "ticks": ""
             }
            },
            "type": "scatterternary"
           }
          ],
          "surface": [
           {
            "colorbar": {
             "outlinewidth": 0,
             "ticks": ""
            },
            "colorscale": [
             [
              0,
              "#0d0887"
             ],
             [
              0.1111111111111111,
              "#46039f"
             ],
             [
              0.2222222222222222,
              "#7201a8"
             ],
             [
              0.3333333333333333,
              "#9c179e"
             ],
             [
              0.4444444444444444,
              "#bd3786"
             ],
             [
              0.5555555555555556,
              "#d8576b"
             ],
             [
              0.6666666666666666,
              "#ed7953"
             ],
             [
              0.7777777777777778,
              "#fb9f3a"
             ],
             [
              0.8888888888888888,
              "#fdca26"
             ],
             [
              1,
              "#f0f921"
             ]
            ],
            "type": "surface"
           }
          ],
          "table": [
           {
            "cells": {
             "fill": {
              "color": "#EBF0F8"
             },
             "line": {
              "color": "white"
             }
            },
            "header": {
             "fill": {
              "color": "#C8D4E3"
             },
             "line": {
              "color": "white"
             }
            },
            "type": "table"
           }
          ]
         },
         "layout": {
          "annotationdefaults": {
           "arrowcolor": "#2a3f5f",
           "arrowhead": 0,
           "arrowwidth": 1
          },
          "autotypenumbers": "strict",
          "coloraxis": {
           "colorbar": {
            "outlinewidth": 0,
            "ticks": ""
           }
          },
          "colorscale": {
           "diverging": [
            [
             0,
             "#8e0152"
            ],
            [
             0.1,
             "#c51b7d"
            ],
            [
             0.2,
             "#de77ae"
            ],
            [
             0.3,
             "#f1b6da"
            ],
            [
             0.4,
             "#fde0ef"
            ],
            [
             0.5,
             "#f7f7f7"
            ],
            [
             0.6,
             "#e6f5d0"
            ],
            [
             0.7,
             "#b8e186"
            ],
            [
             0.8,
             "#7fbc41"
            ],
            [
             0.9,
             "#4d9221"
            ],
            [
             1,
             "#276419"
            ]
           ],
           "sequential": [
            [
             0,
             "#0d0887"
            ],
            [
             0.1111111111111111,
             "#46039f"
            ],
            [
             0.2222222222222222,
             "#7201a8"
            ],
            [
             0.3333333333333333,
             "#9c179e"
            ],
            [
             0.4444444444444444,
             "#bd3786"
            ],
            [
             0.5555555555555556,
             "#d8576b"
            ],
            [
             0.6666666666666666,
             "#ed7953"
            ],
            [
             0.7777777777777778,
             "#fb9f3a"
            ],
            [
             0.8888888888888888,
             "#fdca26"
            ],
            [
             1,
             "#f0f921"
            ]
           ],
           "sequentialminus": [
            [
             0,
             "#0d0887"
            ],
            [
             0.1111111111111111,
             "#46039f"
            ],
            [
             0.2222222222222222,
             "#7201a8"
            ],
            [
             0.3333333333333333,
             "#9c179e"
            ],
            [
             0.4444444444444444,
             "#bd3786"
            ],
            [
             0.5555555555555556,
             "#d8576b"
            ],
            [
             0.6666666666666666,
             "#ed7953"
            ],
            [
             0.7777777777777778,
             "#fb9f3a"
            ],
            [
             0.8888888888888888,
             "#fdca26"
            ],
            [
             1,
             "#f0f921"
            ]
           ]
          },
          "colorway": [
           "#636efa",
           "#EF553B",
           "#00cc96",
           "#ab63fa",
           "#FFA15A",
           "#19d3f3",
           "#FF6692",
           "#B6E880",
           "#FF97FF",
           "#FECB52"
          ],
          "font": {
           "color": "#2a3f5f"
          },
          "geo": {
           "bgcolor": "white",
           "lakecolor": "white",
           "landcolor": "#E5ECF6",
           "showlakes": true,
           "showland": true,
           "subunitcolor": "white"
          },
          "hoverlabel": {
           "align": "left"
          },
          "hovermode": "closest",
          "mapbox": {
           "style": "light"
          },
          "paper_bgcolor": "white",
          "plot_bgcolor": "#E5ECF6",
          "polar": {
           "angularaxis": {
            "gridcolor": "white",
            "linecolor": "white",
            "ticks": ""
           },
           "bgcolor": "#E5ECF6",
           "radialaxis": {
            "gridcolor": "white",
            "linecolor": "white",
            "ticks": ""
           }
          },
          "scene": {
           "xaxis": {
            "backgroundcolor": "#E5ECF6",
            "gridcolor": "white",
            "gridwidth": 2,
            "linecolor": "white",
            "showbackground": true,
            "ticks": "",
            "zerolinecolor": "white"
           },
           "yaxis": {
            "backgroundcolor": "#E5ECF6",
            "gridcolor": "white",
            "gridwidth": 2,
            "linecolor": "white",
            "showbackground": true,
            "ticks": "",
            "zerolinecolor": "white"
           },
           "zaxis": {
            "backgroundcolor": "#E5ECF6",
            "gridcolor": "white",
            "gridwidth": 2,
            "linecolor": "white",
            "showbackground": true,
            "ticks": "",
            "zerolinecolor": "white"
           }
          },
          "shapedefaults": {
           "line": {
            "color": "#2a3f5f"
           }
          },
          "ternary": {
           "aaxis": {
            "gridcolor": "white",
            "linecolor": "white",
            "ticks": ""
           },
           "baxis": {
            "gridcolor": "white",
            "linecolor": "white",
            "ticks": ""
           },
           "bgcolor": "#E5ECF6",
           "caxis": {
            "gridcolor": "white",
            "linecolor": "white",
            "ticks": ""
           }
          },
          "title": {
           "x": 0.05
          },
          "xaxis": {
           "automargin": true,
           "gridcolor": "white",
           "linecolor": "white",
           "ticks": "",
           "title": {
            "standoff": 15
           },
           "zerolinecolor": "white",
           "zerolinewidth": 2
          },
          "yaxis": {
           "automargin": true,
           "gridcolor": "white",
           "linecolor": "white",
           "ticks": "",
           "title": {
            "standoff": 15
           },
           "zerolinecolor": "white",
           "zerolinewidth": 2
          }
         }
        }
       }
      }
     },
     "metadata": {},
     "output_type": "display_data"
    }
   ],
   "source": [
    "btc_usd_sma.plotCandles()"
   ]
  },
  {
   "cell_type": "code",
   "execution_count": null,
   "metadata": {},
   "outputs": [],
   "source": []
  }
 ],
 "metadata": {
  "interpreter": {
   "hash": "aee8b7b246df8f9039afb4144a1f6fd8d2ca17a180786b69acc140d282b71a49"
  },
  "kernelspec": {
   "display_name": "Python 3.9.2 64-bit",
   "language": "python",
   "name": "python3"
  },
  "language_info": {
   "codemirror_mode": {
    "name": "ipython",
    "version": 3
   },
   "file_extension": ".py",
   "mimetype": "text/x-python",
   "name": "python",
   "nbconvert_exporter": "python",
   "pygments_lexer": "ipython3",
   "version": "3.9.2"
  },
  "orig_nbformat": 4
 },
 "nbformat": 4,
 "nbformat_minor": 2
}
